{
 "cells": [
  {
   "cell_type": "code",
   "execution_count": 1,
   "id": "2556dae2-eab7-4c17-8dc8-6c9109f090d7",
   "metadata": {},
   "outputs": [],
   "source": [
    "import tkinter as tk\n",
    "import os\n",
    "import cv2\n",
    "import numpy as np\n",
    "import pandas as pd\n",
    "import zipfile\n",
    "import sys\n",
    "import csv\n",
    "import io\n",
    "from PIL import Image\n",
    "from read_roi import read_roi_file, read_roi_zip\n",
    "from roifile import ImagejRoi\n",
    "from tkinter import filedialog, simpledialog, messagebox"
   ]
  },
  {
   "cell_type": "markdown",
   "id": "14317faf-0a96-4ced-9146-89dd42be213c",
   "metadata": {},
   "source": [
    "If ROIs cannot be analysed, they will be added to this log"
   ]
  },
  {
   "cell_type": "code",
   "execution_count": 2,
   "id": "4ec54e13-f909-4245-8806-3fdd64c175bd",
   "metadata": {},
   "outputs": [],
   "source": [
    "LOG_PATH = \"unsupported_rois.log\""
   ]
  },
  {
   "cell_type": "markdown",
   "id": "f33ea2e5-672e-4b63-8940-56d9660f6ffc",
   "metadata": {},
   "source": [
    "##### File and folder selection\n",
    "\n",
    "Select the following: \n",
    "1. Image file to analyse (works for .tif, .png, .jpg, .jpeg files)\n",
    "2. .zip file containing pre-selected ROIs of Golgi apparatuses which can be assigned to a single nucleus\n",
    "3. Folder to save output: .zip file of constructed convex hulls, .csv file of calculated area"
   ]
  },
  {
   "cell_type": "code",
   "execution_count": 3,
   "id": "3a7b748c-1554-486e-b54b-6cc652364b4b",
   "metadata": {},
   "outputs": [],
   "source": [
    "def select_files_and_folder():\n",
    "    root = tk.Tk()\n",
    "    root.withdraw()\n",
    "    image_path = filedialog.askopenfilename(title=\"이미지 파일 선택\", filetypes=[(\"Image files\", \"*.tif *.png *.jpg *.jpeg\")])\n",
    "    roi_zip_path = filedialog.askopenfilename(title=\"ROI zip 파일 선택\", filetypes=[(\"ZIP files\", \"*.zip\")])\n",
    "    output_dir = filedialog.askdirectory(title=\"결과 저장 폴더 선택\")\n",
    "    return image_path, roi_zip_path, output_dir"
   ]
  },
  {
   "cell_type": "markdown",
   "id": "06298198-24a9-4dd9-a0da-893502646760",
   "metadata": {},
   "source": [
    "##### Detecting the scale bar and automatic scale setting\n",
    "Enter the length of the scale bar in micrometers (µm)"
   ]
  },
  {
   "cell_type": "code",
   "execution_count": 4,
   "id": "4d5b5a53-4fbf-4146-be20-b8237a5f7570",
   "metadata": {},
   "outputs": [],
   "source": [
    "def detect_scale_bar(image, min_length=30):\n",
    "    gray = cv2.cvtColor(image, cv2.COLOR_BGR2GRAY) if image.ndim == 3 else image.copy()\n",
    "    _, thresh = cv2.threshold(gray, 250, 255, cv2.THRESH_BINARY)\n",
    "    contours, _ = cv2.findContours(thresh, cv2.RETR_EXTERNAL, cv2.CHAIN_APPROX_SIMPLE)\n",
    "    for cnt in contours:\n",
    "        x, y, w, h = cv2.boundingRect(cnt)\n",
    "        if w > min_length and h < w * 0.2:\n",
    "            return w\n",
    "    return None\n",
    "\n",
    "def ask_real_scale_length():\n",
    "    root = tk.Tk()\n",
    "    root.withdraw()\n",
    "    value = simpledialog.askfloat(\"스케일 바 길이\", \"스케일 바의 실제 길이 (µm)?\")\n",
    "    if value is None:\n",
    "        messagebox.showerror(\"입력 오류\", \"실제 스케일 바 길이를 입력하지 않았습니다.\")\n",
    "        sys.exit(1)\n",
    "    return value"
   ]
  },
  {
   "cell_type": "markdown",
   "id": "bde84364-b24e-4051-981a-3cfe6f14c0d7",
   "metadata": {},
   "source": [
    "##### ROI detection and masking"
   ]
  },
  {
   "cell_type": "code",
   "execution_count": 5,
   "id": "461e90e2-932b-4222-be88-9c305d4ad4a7",
   "metadata": {},
   "outputs": [],
   "source": [
    "def roi_to_mask(roi, shape):\n",
    "    mask = np.zeros(shape[:2], dtype=np.uint8)\n",
    "    roi_type = roi.get(\"type\", \"\").lower()\n",
    "    if roi_type in (\"polygon\", \"freehand\") and \"x\" in roi and \"y\" in roi:\n",
    "        points = np.array(list(zip(roi[\"x\"], roi[\"y\"])), np.int32)\n",
    "        if roi_type == \"polygon\":\n",
    "            cv2.fillPoly(mask, [points], 255)\n",
    "        else:  # freehand\n",
    "            cv2.polylines(mask, [points], isClosed=True, color=255, thickness=1)\n",
    "            cv2.fillPoly(mask, [points], 255)\n",
    "    elif roi_type in (\"rect\", \"rectangle\") and all(k in roi for k in [\"left\", \"top\", \"width\", \"height\"]):\n",
    "        x, y, w, h = roi[\"left\"], roi[\"top\"], roi[\"width\"], roi[\"height\"]\n",
    "        cv2.rectangle(mask, (x, y), (x + w, y + h), 255, -1)\n",
    "    elif roi_type == \"oval\" and all(k in roi for k in [\"left\", \"top\", \"width\", \"height\"]):\n",
    "        x, y, w, h = roi[\"left\"], roi[\"top\"], roi[\"width\"], roi[\"height\"]\n",
    "        center = (x + w // 2, y + h // 2)\n",
    "        axes = (w // 2, h // 2)\n",
    "        cv2.ellipse(mask, center, axes, 0, 0, 360, 255, -1)\n",
    "    else:\n",
    "        with open(LOG_PATH, \"a\") as f:\n",
    "            f.write(f\"지원되지 않는 ROI 타입 또는 오류: {roi_type}\\n\")\n",
    "        return None\n",
    "    return mask"
   ]
  },
  {
   "cell_type": "code",
   "execution_count": 6,
   "id": "2b67fc40-2932-4520-9d69-218dd6b8ec1e",
   "metadata": {},
   "outputs": [],
   "source": [
    "def create_imagej_roi_bytes(contour, name=\"roi\"):\n",
    "    points = contour.squeeze()\n",
    "    roi = ImagejRoi.frompoints(points, name=name)\n",
    "    return roi.tobytes() "
   ]
  },
  {
   "cell_type": "markdown",
   "id": "bd6c33d5-c31d-470d-9f6a-d592f24bc861",
   "metadata": {},
   "source": [
    "##### Constructing convex hulls in each ROI and calculating the area "
   ]
  },
  {
   "cell_type": "code",
   "execution_count": 7,
   "id": "b00a71a3-fdf6-4304-b351-d3216dc8185f",
   "metadata": {},
   "outputs": [
    {
     "name": "stdout",
     "output_type": "stream",
     "text": [
      "입력 또는 출력 경로가 선택되지 않았습니다.\n"
     ]
    }
   ],
   "source": [
    "### ver 3 ### \n",
    "\n",
    "def analyze_particles_and_save(image_path, roi_zip_path, output_dir):\n",
    "    os.makedirs(output_dir, exist_ok=True)\n",
    "    image = np.array(Image.open(image_path).convert(\"RGB\"))\n",
    "    gray = cv2.cvtColor(image, cv2.COLOR_RGB2GRAY)\n",
    "\n",
    "    # Scale bar detection\n",
    "    scale_bar_px = detect_scale_bar(image)\n",
    "    if not scale_bar_px:\n",
    "        messagebox.showerror(\"스케일 바 감지 실패\", \"이미지에서 스케일 바를 감지하지 못했습니다.\")\n",
    "        sys.exit(1)\n",
    "\n",
    "    scale_bar_um = ask_real_scale_length()\n",
    "    scale_ratio = scale_bar_um / scale_bar_px\n",
    "    print(f\"[INFO] 스케일 바: {scale_bar_px}px = {scale_bar_um}µm → {scale_ratio:.3f} µm/px\")\n",
    "\n",
    "    roi_dict = read_roi_zip(roi_zip_path)\n",
    "    results = []\n",
    "    roi_zip_bytes = {}\n",
    "\n",
    "    for idx, (name, roi) in enumerate(roi_dict.items()):\n",
    "        mask = roi_to_mask(roi, gray.shape)\n",
    "        if mask is None:\n",
    "            continue\n",
    "\n",
    "        # ROI 내부 이미지로부터 particle 추출\n",
    "        roi_img = cv2.bitwise_and(gray, gray, mask=mask)\n",
    "        _, bin_img = cv2.threshold(roi_img, 0, 255, cv2.THRESH_BINARY + cv2.THRESH_OTSU)\n",
    "        contours, _ = cv2.findContours(bin_img, cv2.RETR_EXTERNAL, cv2.CHAIN_APPROX_SIMPLE)\n",
    "        if len(contours) == 0:\n",
    "            continue\n",
    "\n",
    "        all_points = np.vstack(contours)\n",
    "        hull = cv2.convexHull(all_points)\n",
    "        area_px = cv2.contourArea(hull)\n",
    "        area_um = area_px * (scale_ratio ** 2)\n",
    "\n",
    "        # 저장용 이미지\n",
    "        result_img = cv2.cvtColor(gray.copy(), cv2.COLOR_GRAY2BGR)\n",
    "        cv2.drawContours(result_img, [hull], -1, (0, 255, 0), 2)\n",
    "        cv2.imwrite(os.path.join(output_dir, f\"hull_{idx+1}.png\"), result_img)\n",
    "\n",
    "        # ImageJ ROI로 변환\n",
    "        roi_bytes = create_imagej_roi_bytes(hull, name=f\"hull_{idx+1}\")\n",
    "        roi_zip_bytes[f\"hull_{idx+1}.roi\"] = roi_bytes\n",
    "\n",
    "        results.append({\n",
    "            \"ROI Index\": idx+1,\n",
    "            \"Convex Hull Area (px²)\": area_px,\n",
    "            \"Convex Hull Area (µm²)\": area_um\n",
    "        })\n",
    "\n",
    "    # CSV 저장\n",
    "    df = pd.DataFrame(results)\n",
    "    df.to_csv(os.path.join(output_dir, \"convex_hull_results.csv\"), index=False)\n",
    "\n",
    "    # ROI zip 저장\n",
    "    zip_path = os.path.join(output_dir, \"hull_rois.zip\")\n",
    "    with zipfile.ZipFile(zip_path, \"w\") as zf:\n",
    "        for filename, data in roi_zip_bytes.items():\n",
    "            zf.writestr(filename, data)\n",
    "\n",
    "    print(f\"완료: {len(results)}개 ROI 분석 및 저장 완료 → {output_dir}\")\n",
    "\n",
    "if __name__ == \"__main__\":\n",
    "    image_path, roi_zip_path, output_dir = select_files_and_folder()\n",
    "    if image_path and roi_zip_path and output_dir:\n",
    "        analyze_particles_and_save(image_path, roi_zip_path, output_dir)\n",
    "    else:\n",
    "        print(\"입력 또는 출력 경로가 선택되지 않았습니다.\")"
   ]
  },
  {
   "cell_type": "code",
   "execution_count": 8,
   "id": "4a0ad066-4057-4ede-b92b-e9451436786e",
   "metadata": {},
   "outputs": [],
   "source": [
    "def save_roi_dict_to_zip(roi_dicts, save_path):\n",
    "    with zipfile.ZipFile(save_path, 'w') as zf:\n",
    "        for name, roi in roi_dicts.items():\n",
    "            content = f\"roi\\t{name}\\n\"\n",
    "            content += f\"type\\t{roi['type']}\\n\"\n",
    "            content += \"x\\t\" + \"\\t\".join(map(str, roi['x'])) + \"\\n\"\n",
    "            content += \"y\\t\" + \"\\t\".join(map(str, roi['y'])) + \"\\n\"\n",
    "            zf.writestr(f\"{name}.roi\", content)"
   ]
  },
  {
   "cell_type": "code",
   "execution_count": 9,
   "id": "550b4f64-dc4c-4370-8571-276454c0968a",
   "metadata": {},
   "outputs": [],
   "source": [
    "def load_rois_from_zip(zip_path, image_shape):\n",
    "    roi_dict = read_roi_zip(zip_path)\n",
    "    roi_masks = []\n",
    "    for idx, (name, roi) in enumerate(roi_dict.items()):\n",
    "        mask = roi_to_mask(roi, image_shape)\n",
    "        if mask is not None:\n",
    "            roi_masks.append((idx, mask))\n",
    "    return roi_masks"
   ]
  }
 ],
 "metadata": {
  "kernelspec": {
   "display_name": "base",
   "language": "python",
   "name": "python3"
  },
  "language_info": {
   "codemirror_mode": {
    "name": "ipython",
    "version": 3
   },
   "file_extension": ".py",
   "mimetype": "text/x-python",
   "name": "python",
   "nbconvert_exporter": "python",
   "pygments_lexer": "ipython3",
   "version": "3.12.7"
  }
 },
 "nbformat": 4,
 "nbformat_minor": 5
}
